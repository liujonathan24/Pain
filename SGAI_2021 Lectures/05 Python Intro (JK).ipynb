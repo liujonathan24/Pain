{
 "cells": [
  {
   "cell_type": "markdown",
   "metadata": {},
   "source": [
    "# Data Structures and Object-Oriented Programming in Python"
   ]
  },
  {
   "cell_type": "code",
   "execution_count": 1,
   "metadata": {},
   "outputs": [],
   "source": [
    "import timeit"
   ]
  },
  {
   "cell_type": "markdown",
   "metadata": {},
   "source": [
    "## Objects"
   ]
  },
  {
   "cell_type": "markdown",
   "metadata": {},
   "source": [
    "Below is an example of how references in Python work."
   ]
  },
  {
   "cell_type": "code",
   "execution_count": 2,
   "metadata": {},
   "outputs": [
    {
     "name": "stdout",
     "output_type": "stream",
     "text": [
      "True\n"
     ]
    }
   ],
   "source": [
    "x = []\n",
    "y = x\n",
    "print(id(x) == id(y)) # id function gets memory address location"
   ]
  },
  {
   "cell_type": "code",
   "execution_count": 3,
   "metadata": {},
   "outputs": [
    {
     "name": "stdout",
     "output_type": "stream",
     "text": [
      "[]\n",
      "[]\n"
     ]
    }
   ],
   "source": [
    "print(x)\n",
    "print(y)"
   ]
  },
  {
   "cell_type": "code",
   "execution_count": 4,
   "metadata": {},
   "outputs": [
    {
     "name": "stdout",
     "output_type": "stream",
     "text": [
      "['str']\n",
      "['str']\n"
     ]
    }
   ],
   "source": [
    "x.append('str')\n",
    "print(x)\n",
    "print(y)"
   ]
  },
  {
   "cell_type": "markdown",
   "metadata": {},
   "source": [
    "## Ordered Data Structures"
   ]
  },
  {
   "cell_type": "markdown",
   "metadata": {},
   "source": [
    "### Array"
   ]
  },
  {
   "cell_type": "markdown",
   "metadata": {},
   "source": [
    "The array is a data structure that contains multiple elements, all in one continuous block of memory. "
   ]
  },
  {
   "cell_type": "code",
   "execution_count": 5,
   "metadata": {},
   "outputs": [
    {
     "data": {
      "text/plain": [
       "[1, 4, 6, 5]"
      ]
     },
     "execution_count": 5,
     "metadata": {},
     "output_type": "execute_result"
    }
   ],
   "source": [
    "arr = [1, 4, 6, 5]\n",
    "arr"
   ]
  },
  {
   "cell_type": "markdown",
   "metadata": {},
   "source": [
    "The array could be multidimensional (contain arrays inside of array)."
   ]
  },
  {
   "cell_type": "code",
   "execution_count": 6,
   "metadata": {},
   "outputs": [
    {
     "data": {
      "text/plain": [
       "[[1, 2, 3], [3, 4, 5], [2, 4, 6]]"
      ]
     },
     "execution_count": 6,
     "metadata": {},
     "output_type": "execute_result"
    }
   ],
   "source": [
    "[[1,2,3],[3,4,5],[2,4,6]]"
   ]
  },
  {
   "cell_type": "markdown",
   "metadata": {},
   "source": [
    "### Stack"
   ]
  },
  {
   "cell_type": "markdown",
   "metadata": {},
   "source": [
    "A Stack is a data structure that is commonly built off an array. It allows for pushing elements to the beginning of the data structure, or removing elements from the beginning. After adding the last element to the structure, it will be the first element to come out when you call pop. Here's a possible implementation in Python."
   ]
  },
  {
   "cell_type": "code",
   "execution_count": 7,
   "metadata": {},
   "outputs": [],
   "source": [
    "# Last-in, First-out data structure\n",
    "class Stack:\n",
    "    def __init__(self):\n",
    "        self.array = []\n",
    "    def push(self, element):\n",
    "        self.array.append(element)\n",
    "    def pop(self):\n",
    "        return self.array.pop(0)\n"
   ]
  },
  {
   "cell_type": "code",
   "execution_count": 8,
   "metadata": {},
   "outputs": [
    {
     "data": {
      "text/plain": [
       "'element1'"
      ]
     },
     "execution_count": 8,
     "metadata": {},
     "output_type": "execute_result"
    }
   ],
   "source": [
    "st = Stack()\n",
    "st.push('element1')\n",
    "st.push('element2')\n",
    "st.push('element3')\n",
    "st.pop()"
   ]
  },
  {
   "cell_type": "markdown",
   "metadata": {},
   "source": [
    "### Queue"
   ]
  },
  {
   "cell_type": "markdown",
   "metadata": {},
   "source": [
    "Like the Stack, a queue is a data structure that is also commonly built off an array. It allows for pushing elements to the beginning of the data structure, but differs by only allowing you to remove elements from the end. The first element added will always be the first element to come out when you call dequeue. Here's a possible implementation in Python."
   ]
  },
  {
   "cell_type": "code",
   "execution_count": 9,
   "metadata": {},
   "outputs": [],
   "source": [
    "# First-in, First-out data structure\n",
    "class Queue:\n",
    "    def __init__(self):\n",
    "        self.array = []\n",
    "    def queue(self, element):\n",
    "        self.array.append(element)\n",
    "    def dequeue(self):\n",
    "        return self.array.pop(-1)\n",
    "    "
   ]
  },
  {
   "cell_type": "code",
   "execution_count": 10,
   "metadata": {},
   "outputs": [
    {
     "data": {
      "text/plain": [
       "'element3'"
      ]
     },
     "execution_count": 10,
     "metadata": {},
     "output_type": "execute_result"
    }
   ],
   "source": [
    "q = Queue()\n",
    "q.queue('element1')\n",
    "q.queue('element2')\n",
    "q.queue('element3')\n",
    "q.dequeue()"
   ]
  },
  {
   "cell_type": "markdown",
   "metadata": {},
   "source": [
    "### Tuples"
   ]
  },
  {
   "cell_type": "markdown",
   "metadata": {},
   "source": [
    "Tuples are an immutable list of elements in Python. You can’t write any new objects or replace existing, nor can you change the tuple size once it’s been created."
   ]
  },
  {
   "cell_type": "code",
   "execution_count": 11,
   "metadata": {},
   "outputs": [
    {
     "name": "stdout",
     "output_type": "stream",
     "text": [
      "(3, 'hello')\n",
      "tuple does not support item assignment\n"
     ]
    }
   ],
   "source": [
    "t = (3, 'hello')\n",
    "print(t)\n",
    "try:\n",
    "    t[0] = 1\n",
    "except:\n",
    "    print(\"tuple does not support item assignment\")"
   ]
  },
  {
   "cell_type": "markdown",
   "metadata": {},
   "source": [
    "## Unordered Data Structures"
   ]
  },
  {
   "cell_type": "markdown",
   "metadata": {},
   "source": [
    "### Hash Codes"
   ]
  },
  {
   "cell_type": "markdown",
   "metadata": {},
   "source": [
    "Python has a built in `hash()` function that evaluates the hash code of any object (if it's supported)."
   ]
  },
  {
   "cell_type": "code",
   "execution_count": 12,
   "metadata": {},
   "outputs": [
    {
     "name": "stdout",
     "output_type": "stream",
     "text": [
      "-7066756437511716828\n",
      "20\n"
     ]
    }
   ],
   "source": [
    "print(hash(\"hello\"))\n",
    "print(hash(20))"
   ]
  },
  {
   "cell_type": "markdown",
   "metadata": {},
   "source": [
    "In this example, the `Person` class hashes based on the name of the person, but does not include the age. This is a valid hash function, but if you have two people with the same name and different age, that will result in a collision."
   ]
  },
  {
   "cell_type": "code",
   "execution_count": 13,
   "metadata": {},
   "outputs": [
    {
     "name": "stdout",
     "output_type": "stream",
     "text": [
      "True\n"
     ]
    }
   ],
   "source": [
    "class Person:\n",
    "    def __init__(self, name, age): # constructor\n",
    "        self.name = name\n",
    "        self.age = age\n",
    "    def __hash__(self): # hash code function\n",
    "         return hash(self.name)\n",
    "    def __eq__(self, other): # equality function\n",
    "         return (\n",
    "             self.__class__ == other.__class__ and\n",
    "             self.name == other.name\n",
    "         )\n",
    "    def __str__(self): # how a Person object prints\n",
    "        return self.name + \" \" + str(self.age)\n",
    "\n",
    "youngBob = Person(\"Bob\", 20)\n",
    "oldBob = Person(\"Bob\", 75)\n",
    "joe = Person(\"Joe\", 35)\n",
    "\n",
    "print(hash(youngBob) == hash(oldBob))"
   ]
  },
  {
   "cell_type": "code",
   "execution_count": 14,
   "metadata": {},
   "outputs": [
    {
     "name": "stdout",
     "output_type": "stream",
     "text": [
      "False\n"
     ]
    }
   ],
   "source": [
    "print(hash(joe) == hash(oldBob) or hash(joe) == hash(youngBob))"
   ]
  },
  {
   "cell_type": "markdown",
   "metadata": {},
   "source": [
    "Because of the limitation of our `Person` class, we can't add both oldBob and youngBob to a set. They both evaluate to the same hash function, and therefore overwrite each other."
   ]
  },
  {
   "cell_type": "code",
   "execution_count": 15,
   "metadata": {},
   "outputs": [
    {
     "name": "stdout",
     "output_type": "stream",
     "text": [
      "Bob 20\n",
      "Bob 75\n",
      "Joe 35\n"
     ]
    }
   ],
   "source": [
    "people = [ \n",
    "    youngBob, \n",
    "    oldBob, \n",
    "    joe \n",
    "]\n",
    "peopleSet = set(people)\n",
    "\n",
    "for p in people: # print an ordered array of the data\n",
    "    print(p)"
   ]
  },
  {
   "cell_type": "code",
   "execution_count": 16,
   "metadata": {},
   "outputs": [
    {
     "name": "stdout",
     "output_type": "stream",
     "text": [
      "Joe 35\n",
      "Bob 20\n"
     ]
    }
   ],
   "source": [
    "for p in peopleSet: # print the hashset equivalent of the same data\n",
    "    print(p)"
   ]
  },
  {
   "cell_type": "markdown",
   "metadata": {},
   "source": [
    "### Sets"
   ]
  },
  {
   "cell_type": "markdown",
   "metadata": {},
   "source": [
    "Unordered, hash code-based data structure of single values. Does not allow duplicates."
   ]
  },
  {
   "cell_type": "code",
   "execution_count": 17,
   "metadata": {},
   "outputs": [
    {
     "name": "stdout",
     "output_type": "stream",
     "text": [
      "[5, 7, 8, 3, 3, 1, 5]\n",
      "{1, 3, 5, 7, 8}\n"
     ]
    }
   ],
   "source": [
    "data = [ 5, 7, 8, 3, 3, 1, 5 ]\n",
    "print(data)\n",
    "dataHashSet = set(data)\n",
    "print(dataHashSet)"
   ]
  },
  {
   "cell_type": "markdown",
   "metadata": {},
   "source": [
    "### Dictionaries"
   ]
  },
  {
   "cell_type": "markdown",
   "metadata": {},
   "source": [
    "Unordered, hash code-based data structure of key to value pairs. The key is hashed and resolves to a memory address, where we have a different object present as the \"value\"."
   ]
  },
  {
   "cell_type": "markdown",
   "metadata": {},
   "source": [
    "There cannot be duplicate keys. However, the value that is evaluates to doesn't have to be hashable or unique."
   ]
  },
  {
   "cell_type": "code",
   "execution_count": 18,
   "metadata": {},
   "outputs": [],
   "source": [
    "objectColors = {}\n",
    "objectColors[\"apple\"] = \"red\"\n",
    "objectColors[\"pear\"] = \"green\"\n",
    "objectColors[\"raspberry\"] = \"red\""
   ]
  },
  {
   "cell_type": "code",
   "execution_count": 19,
   "metadata": {},
   "outputs": [
    {
     "name": "stdout",
     "output_type": "stream",
     "text": [
      "{'apple': 'red', 'pear': 'green', 'raspberry': 'red'}\n"
     ]
    }
   ],
   "source": [
    "print(objectColors)"
   ]
  },
  {
   "cell_type": "code",
   "execution_count": 20,
   "metadata": {},
   "outputs": [
    {
     "name": "stdout",
     "output_type": "stream",
     "text": [
      "{'apple': 'red', 'pear': 'brown', 'raspberry': 'red'}\n"
     ]
    }
   ],
   "source": [
    "objectColors[\"pear\"] = \"brown\"\n",
    "print(objectColors)"
   ]
  },
  {
   "cell_type": "markdown",
   "metadata": {},
   "source": [
    "Notice in the above example, how we overwrote the value associated with the \"pear\" key. Notice also, that \"apple\" and \"raspberry\" both have the same value. This works fine because we hash based on the key."
   ]
  },
  {
   "cell_type": "code",
   "execution_count": 21,
   "metadata": {},
   "outputs": [
    {
     "name": "stdout",
     "output_type": "stream",
     "text": [
      "{3, 4, 6}\n"
     ]
    }
   ],
   "source": [
    "data = { 4, 3, 4, 6 }\n",
    "print(data)"
   ]
  },
  {
   "cell_type": "code",
   "execution_count": 22,
   "metadata": {},
   "outputs": [
    {
     "data": {
      "text/plain": [
       "True"
      ]
     },
     "execution_count": 22,
     "metadata": {},
     "output_type": "execute_result"
    }
   ],
   "source": [
    "4 in data "
   ]
  },
  {
   "cell_type": "code",
   "execution_count": 23,
   "metadata": {},
   "outputs": [
    {
     "name": "stdout",
     "output_type": "stream",
     "text": [
      "two\n",
      "{1: 'one', 2: 'two', 'three': 3}\n"
     ]
    },
    {
     "data": {
      "text/plain": [
       "True"
      ]
     },
     "execution_count": 23,
     "metadata": {},
     "output_type": "execute_result"
    }
   ],
   "source": [
    "data = { 1: 'one', 2: 'two' }\n",
    "data['three'] = 3\n",
    "print(data[2]) # two\n",
    "print(data) # {3, 4, 6}\n",
    "3 in data # True\n",
    "'three' in data"
   ]
  },
  {
   "cell_type": "markdown",
   "metadata": {},
   "source": [
    "## Object-Oriented Programming"
   ]
  },
  {
   "cell_type": "markdown",
   "metadata": {},
   "source": [
    "We define the Person class below. It acts as a new Type, and we can create new objects of that type."
   ]
  },
  {
   "cell_type": "code",
   "execution_count": 24,
   "metadata": {},
   "outputs": [
    {
     "data": {
      "text/plain": [
       "__main__.Person"
      ]
     },
     "execution_count": 24,
     "metadata": {},
     "output_type": "execute_result"
    }
   ],
   "source": [
    "class Person:\n",
    "    def __init__(self, name):\n",
    "        self.name = name\n",
    "    def getName(self):\n",
    "        return self.name\n",
    "    def setName(self, name):\n",
    "        self.name = name\n",
    "        \n",
    "Person"
   ]
  },
  {
   "cell_type": "code",
   "execution_count": 25,
   "metadata": {},
   "outputs": [
    {
     "data": {
      "text/plain": [
       "__main__.Person"
      ]
     },
     "execution_count": 25,
     "metadata": {},
     "output_type": "execute_result"
    }
   ],
   "source": [
    "chris = Person(\"chris\")\n",
    "type(chris)"
   ]
  },
  {
   "cell_type": "code",
   "execution_count": 26,
   "metadata": {},
   "outputs": [
    {
     "data": {
      "text/plain": [
       "'chris'"
      ]
     },
     "execution_count": 26,
     "metadata": {},
     "output_type": "execute_result"
    }
   ],
   "source": [
    "chris.getName()"
   ]
  },
  {
   "cell_type": "markdown",
   "metadata": {},
   "source": [
    "We should also remember that everything in Python is by reference. Anything referencing your original object will change with the original reference, unless reassigned."
   ]
  },
  {
   "cell_type": "code",
   "execution_count": 27,
   "metadata": {},
   "outputs": [
    {
     "name": "stdout",
     "output_type": "stream",
     "text": [
      "chris\n",
      "kyle\n"
     ]
    }
   ],
   "source": [
    "kyle = chris\n",
    "print(kyle.getName())\n",
    "chris.setName(\"kyle\")\n",
    "print(kyle.getName())"
   ]
  },
  {
   "cell_type": "markdown",
   "metadata": {},
   "source": [
    "### Hashing with Classes\n",
    "We will define the same class as above, but we've implemented hashing and equality functions based on the \"name\" instance variable."
   ]
  },
  {
   "cell_type": "code",
   "execution_count": 28,
   "metadata": {},
   "outputs": [],
   "source": [
    "class PersonHashed:\n",
    "    def __init__(self, name):\n",
    "        self.name = name\n",
    "    def getName(self):\n",
    "        return self.name\n",
    "    def setName(self, name):\n",
    "        self.name = name\n",
    "    def __eq__(self, other):\n",
    "        return self.getName() == other.getName()\n",
    "    def __hash__(self):\n",
    "        return hash(self.getName())"
   ]
  },
  {
   "cell_type": "markdown",
   "metadata": {},
   "source": [
    "Now, let's look at what happens in a set."
   ]
  },
  {
   "cell_type": "code",
   "execution_count": 29,
   "metadata": {},
   "outputs": [
    {
     "name": "stdout",
     "output_type": "stream",
     "text": [
      "3\n",
      "2\n"
     ]
    }
   ],
   "source": [
    "unhashedSet = set([ Person(\"Chris\"), Person(\"John\"), Person(\"John\") ])\n",
    "hashedSet = set([ PersonHashed(\"Chris\"), PersonHashed(\"John\"), PersonHashed(\"John\") ])\n",
    "\n",
    "print(len(unhashedSet))\n",
    "print(len(hashedSet))"
   ]
  },
  {
   "cell_type": "code",
   "execution_count": 30,
   "metadata": {},
   "outputs": [
    {
     "name": "stdout",
     "output_type": "stream",
     "text": [
      "John\n",
      "John\n",
      "Chris\n"
     ]
    }
   ],
   "source": [
    "for p in unhashedSet:\n",
    "    print(p.getName())"
   ]
  },
  {
   "cell_type": "code",
   "execution_count": 31,
   "metadata": {},
   "outputs": [
    {
     "name": "stdout",
     "output_type": "stream",
     "text": [
      "Chris\n",
      "John\n"
     ]
    }
   ],
   "source": [
    "for p in hashedSet:\n",
    "    print(p.getName())"
   ]
  },
  {
   "cell_type": "markdown",
   "metadata": {},
   "source": [
    "### Inheritance\n",
    "I'll write out the Pet example. We have a Pet class, which has similarities between all Pets, and then a class Cat that extends from it with it's own methods. When constructing a new Cat, it uses the Pet initializer by default, since we haven't defined a new `__init__`. This new Cat class also has access to all of Pet's instance variables."
   ]
  },
  {
   "cell_type": "code",
   "execution_count": 32,
   "metadata": {},
   "outputs": [
    {
     "name": "stdout",
     "output_type": "stream",
     "text": [
      "charlie says meow\n"
     ]
    }
   ],
   "source": [
    "class Pet:\n",
    "    def __init__(self, name, age):\n",
    "        self.name = name\n",
    "        self.age = age\n",
    "    def getName(self):\n",
    "        return self.name\n",
    "    def getAge(self):\n",
    "        return self.age\n",
    "    \n",
    "class Cat(Pet):\n",
    "    def meow(self):\n",
    "        print(self.name + ' says meow')\n",
    "\n",
    "charlie = Cat(\"charlie\", 10)  \n",
    "charlie.meow()"
   ]
  },
  {
   "cell_type": "markdown",
   "metadata": {},
   "source": [
    "We can also define a new `__init__` function. This overwrites the previous constructor. If you want access to Pet's variables, make sure to call the Pet `__init__` function inside of `Snake.__init__`."
   ]
  },
  {
   "cell_type": "code",
   "execution_count": 33,
   "metadata": {},
   "outputs": [
    {
     "data": {
      "text/plain": [
       "'green'"
      ]
     },
     "execution_count": 33,
     "metadata": {},
     "output_type": "execute_result"
    }
   ],
   "source": [
    "class Snake(Pet):\n",
    "    def __init__(self, name, age, color):\n",
    "        Pet.__init__(self, name, age)\n",
    "        self.color = color\n",
    "    def getColor(self):\n",
    "        return self.color\n",
    "    def setColor(self, color):\n",
    "        self.color = color\n",
    "        \n",
    "bob = Snake('bob', 5, 'green')\n",
    "bob.getColor()"
   ]
  },
  {
   "cell_type": "markdown",
   "metadata": {},
   "source": [
    "## Enums"
   ]
  },
  {
   "cell_type": "markdown",
   "metadata": {},
   "source": [
    "Enums can let you define a class of values, where the details are abstracted away but the description is top-level. It helps code to be more readable. You can also create methods that take strictly a set of enums, so you know the values that will be coming in."
   ]
  },
  {
   "cell_type": "code",
   "execution_count": 34,
   "metadata": {},
   "outputs": [
    {
     "data": {
      "text/plain": [
       "<Math.PI: 3.141565>"
      ]
     },
     "execution_count": 34,
     "metadata": {},
     "output_type": "execute_result"
    }
   ],
   "source": [
    "from enum import Enum\n",
    "class Math(Enum):\n",
    "    PI = 3.141565\n",
    "    PHI = 1.618\n",
    "    \n",
    "Math.PI"
   ]
  },
  {
   "cell_type": "code",
   "execution_count": 35,
   "metadata": {},
   "outputs": [
    {
     "data": {
      "text/plain": [
       "9.424695"
      ]
     },
     "execution_count": 35,
     "metadata": {},
     "output_type": "execute_result"
    }
   ],
   "source": [
    "circum = Math.PI.value * 3\n",
    "circum"
   ]
  },
  {
   "cell_type": "markdown",
   "metadata": {},
   "source": [
    "We often use IntEnums in ML applications to easily encode values in a machine readable way."
   ]
  },
  {
   "cell_type": "code",
   "execution_count": 36,
   "metadata": {},
   "outputs": [
    {
     "data": {
      "text/plain": [
       "0"
      ]
     },
     "execution_count": 36,
     "metadata": {},
     "output_type": "execute_result"
    }
   ],
   "source": [
    "from enum import IntEnum\n",
    "class Actions(IntEnum):\n",
    "    UP = 0\n",
    "    DOWN = 1\n",
    "    \n",
    "Actions.UP\n",
    "Actions.UP.value"
   ]
  },
  {
   "cell_type": "code",
   "execution_count": null,
   "metadata": {},
   "outputs": [],
   "source": []
  }
 ],
 "metadata": {
  "kernelspec": {
   "display_name": "Python 3",
   "language": "python",
   "name": "python3"
  },
  "language_info": {
   "codemirror_mode": {
    "name": "ipython",
    "version": 3
   },
   "file_extension": ".py",
   "mimetype": "text/x-python",
   "name": "python",
   "nbconvert_exporter": "python",
   "pygments_lexer": "ipython3",
   "version": "3.8.5"
  }
 },
 "nbformat": 4,
 "nbformat_minor": 4
}
